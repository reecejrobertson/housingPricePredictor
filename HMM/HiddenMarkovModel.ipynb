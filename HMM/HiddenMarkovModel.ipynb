{
 "cells": [
  {
   "cell_type": "code",
   "execution_count": 2,
   "id": "6048bdec",
   "metadata": {},
   "outputs": [],
   "source": [
    "import numpy as np\n",
    "from matplotlib import pyplot as plt\n",
    "from sklearn.decomposition import PCA\n",
    "import pandas as pd\n",
    "import datetime"
   ]
  },
  {
   "cell_type": "code",
   "execution_count": 18,
   "id": "326515d8",
   "metadata": {},
   "outputs": [
    {
     "name": "stdout",
     "output_type": "stream",
     "text": [
      "(35, 2)\n"
     ]
    },
    {
     "data": {
      "image/png": "[encoded data removed]",
      "text/plain": [
       "<Figure size 432x288 with 1 Axes>"
      ]
     },
     "metadata": {
      "needs_background": "light"
     },
     "output_type": "display_data"
    }
   ],
   "source": [
    "df = pd.read_csv(\"Output.csv\")\n",
    "data = df.drop('DATE', axis=1).to_numpy()\n",
    "pca_d = PCA(n_components=2).fit_transform(data)\n",
    "print(pca_d.shape)\n",
    "plt.plot(pca_d[:,0],pca_d[:,1], '.')\n",
    "plt.show()"
   ]
  },
  {
   "cell_type": "markdown",
   "id": "8e662cc0",
   "metadata": {},
   "source": [
    "### HMM Class from HW 12.4"
   ]
  },
  {
   "cell_type": "code",
   "execution_count": null,
   "id": "b239e49c",
   "metadata": {},
   "outputs": [],
   "source": [
    "class hmm(object):\n",
    "    \"\"\"\n",
    "    Finite state space hidden markov model.\n",
    "    \"\"\"\n",
    "    def __init__(self, A, B, pi):\n",
    "        \"\"\"\n",
    "        Initialize model parameters.\n",
    "        \"\"\"\n",
    "        self.A = A\n",
    "        self.B = B\n",
    "        self.pi = pi\n",
    "    \n",
    "    #Part (i)\n",
    "    def _forward(self, obs):\n",
    "        \"\"\"\n",
    "        Compute the forward probability matrix.\n",
    "\n",
    "        Parameters\n",
    "        ----------\n",
    "        obs : ndarray of shape (T,)\n",
    "        The observation sequence\n",
    "\n",
    "        Returns\n",
    "        -------\n",
    "        alpha : ndarray of shape (T,n)\n",
    "        The forward probability matrix (alpha)\n",
    "        \"\"\"\n",
    "        m,n = self.B.shape\n",
    "        T = len(obs)\n",
    "        alpha = np.zeros((T,n))\n",
    "        #Recursively compute the matrix\n",
    "        for i in range(T):\n",
    "            if i == 0:\n",
    "                alpha[0,:] = self.pi * self.B[obs[0],:]\n",
    "            else:\n",
    "                alpha[i,:] = self.B[obs[i],:] * (alpha[i-1,:] @ self.A.T)\n",
    "        return alpha\n",
    "        \n",
    "\n",
    "    def _backward(self, obs):\n",
    "        \"\"\"\n",
    "        Compute the backward probability matrix.\n",
    "        Parameters\n",
    "        ----------\n",
    "        obs : ndarray of shape (T,)\n",
    "        The observation sequence\n",
    "        Returns\n",
    "        -------\n",
    "        beta : ndarray of shape (T,n)\n",
    "        The backward probability matrix\n",
    "        \"\"\"\n",
    "        m,n = self.B.shape\n",
    "        T = len(obs)\n",
    "        beta = np.zeros((T,n))\n",
    "        #Initialize last row\n",
    "        beta[-1,:] = 1\n",
    "        #Recursively compute the matrix\n",
    "        for i in range(T-2,-1,-1):\n",
    "            beta[i,:] = (beta[i+1,:] * self.B[obs[i+1],:]) @ self.A\n",
    "        return beta\n",
    "            \n",
    "\n",
    "    def _gamma(self, alpha, beta):\n",
    "        \"\"\"\n",
    "        Compute the gamma probabilities.\n",
    "\n",
    "        Parameters\n",
    "        ----------\n",
    "        alpha : ndarray of shape (T,n)\n",
    "        The forward probability matrix from the forward pass\n",
    "        beta : ndarray of shape (T,n)\n",
    "        The backward probability matrix from the - backward pass\n",
    "\n",
    "        Returns\n",
    "        -------\n",
    "        gamma : ndarray of shape (T,n)\n",
    "        The gamma probability array\n",
    "        \"\"\"\n",
    "        T, _ = alpha.shape\n",
    "        gamma = np.zeros_like(alpha)\n",
    "        denom = np.sum(alpha[-1,:])\n",
    "        #Compute gammas\n",
    "        for i in range(T):\n",
    "            gamma[i,:] = alpha[i,:] * beta[i,:] / denom\n",
    "        return gamma\n",
    "        \n",
    "\n",
    "    def viterbi(self, obs):\n",
    "        \"\"\"\n",
    "        Compute the most likely state sequence.\n",
    "\n",
    "        Parameters\n",
    "        ----------\n",
    "        obs : ndarray of shape (T,)\n",
    "        The observation sequence\n",
    "\n",
    "        Returns\n",
    "        -------\n",
    "        y* : ndarray of shape (T,) with entries in 0,1,...,n-1\n",
    "        The most likely state sequence.\n",
    "        \"\"\"\n",
    "        #Get sizes\n",
    "        T = len(obs)\n",
    "        m,n = self.B.shape\n",
    "        nu = np.zeros((T,n))\n",
    "        x_hat = np.zeros((T,n))\n",
    "        #Iteratively find the most likely states\n",
    "        nu[0,:] = np.log(self.pi)+np.log(self.B[obs[0],:])\n",
    "        print(np.exp(nu[0,:]))\n",
    "        for i in range(1,T):\n",
    "            probs = (nu[i-1,:] + np.log(self.A)).T + np.log(self.B[obs[i],:])\n",
    "            nu[i,:] = np.max(probs, axis=0)\n",
    "            x_hat[i-1,:] = np.argmax(probs, axis=0)\n",
    "            print(np.exp(probs))\n",
    "        #Find final optimizers\n",
    "        x_star = np.zeros(T).astype(int)\n",
    "        x_star[-1] = np.argmax(nu[-1,:])\n",
    "        for i in range(T-2, -1, -1):\n",
    "            x_star[i] = x_hat[i, x_star[i+1]]\n",
    "        return x_star\n",
    "            "
   ]
  }
 ],
 "metadata": {
  "kernelspec": {
   "display_name": "Python 3 (ipykernel)",
   "language": "python",
   "name": "python3"
  },
  "language_info": {
   "codemirror_mode": {
    "name": "ipython",
    "version": 3
   },
   "file_extension": ".py",
   "mimetype": "text/x-python",
   "name": "python",
   "nbconvert_exporter": "python",
   "pygments_lexer": "ipython3",
   "version": "3.8.12"
  }
 },
 "nbformat": 4,
 "nbformat_minor": 5
}
